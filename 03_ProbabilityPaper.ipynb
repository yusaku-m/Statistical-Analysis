{
 "cells": [
  {
   "cell_type": "markdown",
   "metadata": {},
   "source": [
    "# 確率紙による最適な分布関数の選定と母数の推定\n",
    "ここまでに，代表的な確率分布関数をいくつか把握した。  \n",
    "各関数に対してのフィッティング自体は線形/非線形の最小二乗法で行うことが可能だが，どの関数でフィッティングを行うのが最適化の判別は困難である。\n",
    "ここでは，統計データを変換し，ある確率分布関数に近ければ近いほど，そのプロットが直線に近づく，確率紙を紹介する。"
   ]
  },
  {
   "cell_type": "code",
   "execution_count": null,
   "metadata": {},
   "outputs": [],
   "source": []
  }
 ],
 "metadata": {
  "kernelspec": {
   "display_name": "Python 3.10.7 64-bit (microsoft store)",
   "language": "python",
   "name": "python3"
  },
  "language_info": {
   "name": "python",
   "version": "3.10.7"
  },
  "orig_nbformat": 4,
  "vscode": {
   "interpreter": {
    "hash": "6f0921e8e5ba627ad354a33e4c63298d0a028fa784b664d121704fe68184d40c"
   }
  }
 },
 "nbformat": 4,
 "nbformat_minor": 2
}
