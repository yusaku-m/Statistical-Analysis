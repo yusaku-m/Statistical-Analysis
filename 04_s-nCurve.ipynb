{
 "cells": [
  {
   "cell_type": "markdown",
   "metadata": {},
   "source": [
    "# S-N曲線\n",
    "ここまでで使用した疲労データを元にS-N曲線を作図する。  \n",
    "今回は，アルミで最も多く使用される片対数曲線回帰モデルを使用する。  \n",
    "σ=B-Alog10(N)"
   ]
  },
  {
   "cell_type": "code",
   "execution_count": 51,
   "metadata": {},
   "outputs": [
    {
     "name": "stdout",
     "output_type": "stream",
     "text": [
      "    No.  275 MPa  265 MPa  245 MPa  226 MPa  206 MPa  186 MPa  177 MPa  \\\n",
      "0     1  27200.0    31700    51100    78400   131800   213100   282100   \n",
      "1     2  27600.0    32400    53200    79200   133900   218900   284200   \n",
      "2     3  28900.0    33200    53500    79800   136700   222500   291400   \n",
      "3     4  29300.0    33700    54200    82300   137100   234000   311700   \n",
      "4     5  29900.0    35500    55000    85800   139300   241500   345900   \n",
      "5     6  30100.0    35700    57000    86000   140100   246800   317600   \n",
      "6     7  30600.0    35900    57000    86600   140400   248600   331300   \n",
      "7     8  30700.0    36000    57200    88100   145700   251200   335300   \n",
      "8     9  30800.0    36500    57700    88500   145900   251300   391600   \n",
      "9    10  30900.0    36800    58400    88700   146000   252700   405900   \n",
      "10   11  30900.0    37000    58500    89300   146900   255600   411500   \n",
      "11   12  31000.0    37000    59200    90300   148600   261600   418800   \n",
      "12   13  31200.0    37200    59300    90800   148600   261600   445000   \n",
      "13   14  31200.0    37500    59800    92200   148800   262400   447700   \n",
      "14   15  31700.0    37500    59800    92500   149400   262900   455100   \n",
      "15   16  31800.0    37600    60900    93200   152500   265300   457800   \n",
      "16   17  31900.0    37600    61400    93400   153600   265700   457900   \n",
      "17   18  32100.0    37900    61400    93700   154200   268700   472200   \n",
      "18   19  32400.0    38200    61600    94100   155000   274000   501100   \n",
      "19   20  32400.0    38600    62500    95300   155800   280500   533600   \n",
      "20   21  34900.0    39400    62900    95500   156200   282100   587200   \n",
      "21   22      NaN    39600    63000    95600   156700   284800   594800   \n",
      "22   23      NaN    40300    63100    96300   157100   287900   647900   \n",
      "23   24      NaN    40500    63300    96600   159200   289300   670900   \n",
      "24   25      NaN    40700    63400    96700   160900   306200   708900   \n",
      "25   26      NaN    40800    63600    99200   161000   310100   739600   \n",
      "26   27      NaN    40900    63900    99500   163900   323600   880600   \n",
      "27   28      NaN    41000    66700   107500   164300   326200   927800   \n",
      "28   29      NaN    41300    67700   107700   138400   340200   933500   \n",
      "29   30      NaN    42700    70000   110600   183200   343200  1564700   \n",
      "\n",
      "    167 MPa     157 MPa Unnamed: 10  \n",
      "0    477000    481100.0         NaN  \n",
      "1    517600    628100.0         NaN  \n",
      "2    562600   1355700.0         NaN  \n",
      "3    587800   1428000.0         NaN  \n",
      "4    658900   2407100.0         NaN  \n",
      "5    710700   2489300.0         NaN  \n",
      "6    763200   3963400.0         NaN  \n",
      "7    785000   3969900.0         NaN  \n",
      "8    875200   4301900.0         NaN  \n",
      "9    984900   5896300.0         NaN  \n",
      "10  1039500   6092200.0         NaN  \n",
      "11  1166800   6684500.0         NaN  \n",
      "12  1283600   8618400.0         NaN  \n",
      "13  1359800   8961900.0         NaN  \n",
      "14  1614900   9695300.0         NaN  \n",
      "15  1699600   9716800.0         NaN  \n",
      "16  1704300  10296100.0         NaN  \n",
      "17  1851200  12000000.0           *  \n",
      "18  2087100  12000000.0           *  \n",
      "19  2177800  12000000.0           *  \n",
      "20  2305800  12000000.0           *  \n",
      "21  2469600         NaN         NaN  \n",
      "22  2628900         NaN         NaN  \n",
      "23  2746800         NaN         NaN  \n",
      "24  3386300         NaN         NaN  \n",
      "25  3399800         NaN         NaN  \n",
      "26  3555900         NaN         NaN  \n",
      "27  4336400         NaN         NaN  \n",
      "28  4915400         NaN         NaN  \n",
      "29  5291200         NaN         NaN  \n"
     ]
    }
   ],
   "source": [
    "import pandas as pd\n",
    "\n",
    "filepath = \"./datas/2-3_fatigue_life_on_Kb108.csv\"\n",
    "df = pd.read_csv(filepath)\n",
    "print(df)\n",
    "\n"
   ]
  },
  {
   "cell_type": "markdown",
   "metadata": {},
   "source": [
    "読み込んだデータを，応力，回数の形に整形する。\n",
    "応力は単位を含む文字列になっているので，数値部分のみを抜き出す。"
   ]
  },
  {
   "cell_type": "code",
   "execution_count": 52,
   "metadata": {},
   "outputs": [],
   "source": [
    "import numpy as np\n",
    "data = np.array(df.iloc[:,[1]]).squeeze()\n",
    "cycleN = data[~np.isnan(data)]\n",
    "stress = np.full((len(cycleN)), int(df.columns[1][:3])) \n",
    "SNdata = np.vstack([stress, cycleN]).transpose()\n"
   ]
  },
  {
   "cell_type": "code",
   "execution_count": 53,
   "metadata": {},
   "outputs": [
    {
     "data": {
      "text/plain": [
       "array([[  275., 27200.],\n",
       "       [  275., 27600.],\n",
       "       [  275., 28900.],\n",
       "       [  275., 29300.],\n",
       "       [  275., 29900.],\n",
       "       [  275., 30100.],\n",
       "       [  275., 30600.],\n",
       "       [  275., 30700.],\n",
       "       [  275., 30800.],\n",
       "       [  275., 30900.],\n",
       "       [  275., 30900.],\n",
       "       [  275., 31000.],\n",
       "       [  275., 31200.],\n",
       "       [  275., 31200.],\n",
       "       [  275., 31700.],\n",
       "       [  275., 31800.],\n",
       "       [  275., 31900.],\n",
       "       [  275., 32100.],\n",
       "       [  275., 32400.],\n",
       "       [  275., 32400.],\n",
       "       [  275., 34900.]])"
      ]
     },
     "execution_count": 53,
     "metadata": {},
     "output_type": "execute_result"
    }
   ],
   "source": [
    "SNdata"
   ]
  },
  {
   "cell_type": "markdown",
   "metadata": {},
   "source": [
    "全ての応力に対してループする。"
   ]
  },
  {
   "cell_type": "code",
   "execution_count": 60,
   "metadata": {},
   "outputs": [],
   "source": [
    "import numpy as np\n",
    "for i in range(len(df.columns)-2):\n",
    "    data = np.array(df.iloc[:,[i+1]]).squeeze()\n",
    "    cycleN = data[~np.isnan(data)]\n",
    "    stress = np.full((len(cycleN)), int(df.columns[i+1][:3]))\n",
    "    if i==0:\n",
    "        SNdata = np.vstack([cycleN, stress])\n",
    "    else:\n",
    "        SNdata = np.hstack([SNdata, np.vstack([cycleN, stress])])"
   ]
  },
  {
   "cell_type": "code",
   "execution_count": 61,
   "metadata": {},
   "outputs": [
    {
     "data": {
      "text/plain": [
       "array([[2.72000e+04, 2.76000e+04, 2.89000e+04, 2.93000e+04, 2.99000e+04,\n",
       "        3.01000e+04, 3.06000e+04, 3.07000e+04, 3.08000e+04, 3.09000e+04,\n",
       "        3.09000e+04, 3.10000e+04, 3.12000e+04, 3.12000e+04, 3.17000e+04,\n",
       "        3.18000e+04, 3.19000e+04, 3.21000e+04, 3.24000e+04, 3.24000e+04,\n",
       "        3.49000e+04, 3.17000e+04, 3.24000e+04, 3.32000e+04, 3.37000e+04,\n",
       "        3.55000e+04, 3.57000e+04, 3.59000e+04, 3.60000e+04, 3.65000e+04,\n",
       "        3.68000e+04, 3.70000e+04, 3.70000e+04, 3.72000e+04, 3.75000e+04,\n",
       "        3.75000e+04, 3.76000e+04, 3.76000e+04, 3.79000e+04, 3.82000e+04,\n",
       "        3.86000e+04, 3.94000e+04, 3.96000e+04, 4.03000e+04, 4.05000e+04,\n",
       "        4.07000e+04, 4.08000e+04, 4.09000e+04, 4.10000e+04, 4.13000e+04,\n",
       "        4.27000e+04, 5.11000e+04, 5.32000e+04, 5.35000e+04, 5.42000e+04,\n",
       "        5.50000e+04, 5.70000e+04, 5.70000e+04, 5.72000e+04, 5.77000e+04,\n",
       "        5.84000e+04, 5.85000e+04, 5.92000e+04, 5.93000e+04, 5.98000e+04,\n",
       "        5.98000e+04, 6.09000e+04, 6.14000e+04, 6.14000e+04, 6.16000e+04,\n",
       "        6.25000e+04, 6.29000e+04, 6.30000e+04, 6.31000e+04, 6.33000e+04,\n",
       "        6.34000e+04, 6.36000e+04, 6.39000e+04, 6.67000e+04, 6.77000e+04,\n",
       "        7.00000e+04, 7.84000e+04, 7.92000e+04, 7.98000e+04, 8.23000e+04,\n",
       "        8.58000e+04, 8.60000e+04, 8.66000e+04, 8.81000e+04, 8.85000e+04,\n",
       "        8.87000e+04, 8.93000e+04, 9.03000e+04, 9.08000e+04, 9.22000e+04,\n",
       "        9.25000e+04, 9.32000e+04, 9.34000e+04, 9.37000e+04, 9.41000e+04,\n",
       "        9.53000e+04, 9.55000e+04, 9.56000e+04, 9.63000e+04, 9.66000e+04,\n",
       "        9.67000e+04, 9.92000e+04, 9.95000e+04, 1.07500e+05, 1.07700e+05,\n",
       "        1.10600e+05, 1.31800e+05, 1.33900e+05, 1.36700e+05, 1.37100e+05,\n",
       "        1.39300e+05, 1.40100e+05, 1.40400e+05, 1.45700e+05, 1.45900e+05,\n",
       "        1.46000e+05, 1.46900e+05, 1.48600e+05, 1.48600e+05, 1.48800e+05,\n",
       "        1.49400e+05, 1.52500e+05, 1.53600e+05, 1.54200e+05, 1.55000e+05,\n",
       "        1.55800e+05, 1.56200e+05, 1.56700e+05, 1.57100e+05, 1.59200e+05,\n",
       "        1.60900e+05, 1.61000e+05, 1.63900e+05, 1.64300e+05, 1.38400e+05,\n",
       "        1.83200e+05, 2.13100e+05, 2.18900e+05, 2.22500e+05, 2.34000e+05,\n",
       "        2.41500e+05, 2.46800e+05, 2.48600e+05, 2.51200e+05, 2.51300e+05,\n",
       "        2.52700e+05, 2.55600e+05, 2.61600e+05, 2.61600e+05, 2.62400e+05,\n",
       "        2.62900e+05, 2.65300e+05, 2.65700e+05, 2.68700e+05, 2.74000e+05,\n",
       "        2.80500e+05, 2.82100e+05, 2.84800e+05, 2.87900e+05, 2.89300e+05,\n",
       "        3.06200e+05, 3.10100e+05, 3.23600e+05, 3.26200e+05, 3.40200e+05,\n",
       "        3.43200e+05, 2.82100e+05, 2.84200e+05, 2.91400e+05, 3.11700e+05,\n",
       "        3.45900e+05, 3.17600e+05, 3.31300e+05, 3.35300e+05, 3.91600e+05,\n",
       "        4.05900e+05, 4.11500e+05, 4.18800e+05, 4.45000e+05, 4.47700e+05,\n",
       "        4.55100e+05, 4.57800e+05, 4.57900e+05, 4.72200e+05, 5.01100e+05,\n",
       "        5.33600e+05, 5.87200e+05, 5.94800e+05, 6.47900e+05, 6.70900e+05,\n",
       "        7.08900e+05, 7.39600e+05, 8.80600e+05, 9.27800e+05, 9.33500e+05,\n",
       "        1.56470e+06, 4.77000e+05, 5.17600e+05, 5.62600e+05, 5.87800e+05,\n",
       "        6.58900e+05, 7.10700e+05, 7.63200e+05, 7.85000e+05, 8.75200e+05,\n",
       "        9.84900e+05, 1.03950e+06, 1.16680e+06, 1.28360e+06, 1.35980e+06,\n",
       "        1.61490e+06, 1.69960e+06, 1.70430e+06, 1.85120e+06, 2.08710e+06,\n",
       "        2.17780e+06, 2.30580e+06, 2.46960e+06, 2.62890e+06, 2.74680e+06,\n",
       "        3.38630e+06, 3.39980e+06, 3.55590e+06, 4.33640e+06, 4.91540e+06,\n",
       "        5.29120e+06, 4.81100e+05, 6.28100e+05, 1.35570e+06, 1.42800e+06,\n",
       "        2.40710e+06, 2.48930e+06, 3.96340e+06, 3.96990e+06, 4.30190e+06,\n",
       "        5.89630e+06, 6.09220e+06, 6.68450e+06, 8.61840e+06, 8.96190e+06,\n",
       "        9.69530e+06, 9.71680e+06, 1.02961e+07, 1.20000e+07, 1.20000e+07,\n",
       "        1.20000e+07, 1.20000e+07],\n",
       "       [2.75000e+02, 2.75000e+02, 2.75000e+02, 2.75000e+02, 2.75000e+02,\n",
       "        2.75000e+02, 2.75000e+02, 2.75000e+02, 2.75000e+02, 2.75000e+02,\n",
       "        2.75000e+02, 2.75000e+02, 2.75000e+02, 2.75000e+02, 2.75000e+02,\n",
       "        2.75000e+02, 2.75000e+02, 2.75000e+02, 2.75000e+02, 2.75000e+02,\n",
       "        2.75000e+02, 2.65000e+02, 2.65000e+02, 2.65000e+02, 2.65000e+02,\n",
       "        2.65000e+02, 2.65000e+02, 2.65000e+02, 2.65000e+02, 2.65000e+02,\n",
       "        2.65000e+02, 2.65000e+02, 2.65000e+02, 2.65000e+02, 2.65000e+02,\n",
       "        2.65000e+02, 2.65000e+02, 2.65000e+02, 2.65000e+02, 2.65000e+02,\n",
       "        2.65000e+02, 2.65000e+02, 2.65000e+02, 2.65000e+02, 2.65000e+02,\n",
       "        2.65000e+02, 2.65000e+02, 2.65000e+02, 2.65000e+02, 2.65000e+02,\n",
       "        2.65000e+02, 2.45000e+02, 2.45000e+02, 2.45000e+02, 2.45000e+02,\n",
       "        2.45000e+02, 2.45000e+02, 2.45000e+02, 2.45000e+02, 2.45000e+02,\n",
       "        2.45000e+02, 2.45000e+02, 2.45000e+02, 2.45000e+02, 2.45000e+02,\n",
       "        2.45000e+02, 2.45000e+02, 2.45000e+02, 2.45000e+02, 2.45000e+02,\n",
       "        2.45000e+02, 2.45000e+02, 2.45000e+02, 2.45000e+02, 2.45000e+02,\n",
       "        2.45000e+02, 2.45000e+02, 2.45000e+02, 2.45000e+02, 2.45000e+02,\n",
       "        2.45000e+02, 2.26000e+02, 2.26000e+02, 2.26000e+02, 2.26000e+02,\n",
       "        2.26000e+02, 2.26000e+02, 2.26000e+02, 2.26000e+02, 2.26000e+02,\n",
       "        2.26000e+02, 2.26000e+02, 2.26000e+02, 2.26000e+02, 2.26000e+02,\n",
       "        2.26000e+02, 2.26000e+02, 2.26000e+02, 2.26000e+02, 2.26000e+02,\n",
       "        2.26000e+02, 2.26000e+02, 2.26000e+02, 2.26000e+02, 2.26000e+02,\n",
       "        2.26000e+02, 2.26000e+02, 2.26000e+02, 2.26000e+02, 2.26000e+02,\n",
       "        2.26000e+02, 2.06000e+02, 2.06000e+02, 2.06000e+02, 2.06000e+02,\n",
       "        2.06000e+02, 2.06000e+02, 2.06000e+02, 2.06000e+02, 2.06000e+02,\n",
       "        2.06000e+02, 2.06000e+02, 2.06000e+02, 2.06000e+02, 2.06000e+02,\n",
       "        2.06000e+02, 2.06000e+02, 2.06000e+02, 2.06000e+02, 2.06000e+02,\n",
       "        2.06000e+02, 2.06000e+02, 2.06000e+02, 2.06000e+02, 2.06000e+02,\n",
       "        2.06000e+02, 2.06000e+02, 2.06000e+02, 2.06000e+02, 2.06000e+02,\n",
       "        2.06000e+02, 1.86000e+02, 1.86000e+02, 1.86000e+02, 1.86000e+02,\n",
       "        1.86000e+02, 1.86000e+02, 1.86000e+02, 1.86000e+02, 1.86000e+02,\n",
       "        1.86000e+02, 1.86000e+02, 1.86000e+02, 1.86000e+02, 1.86000e+02,\n",
       "        1.86000e+02, 1.86000e+02, 1.86000e+02, 1.86000e+02, 1.86000e+02,\n",
       "        1.86000e+02, 1.86000e+02, 1.86000e+02, 1.86000e+02, 1.86000e+02,\n",
       "        1.86000e+02, 1.86000e+02, 1.86000e+02, 1.86000e+02, 1.86000e+02,\n",
       "        1.86000e+02, 1.77000e+02, 1.77000e+02, 1.77000e+02, 1.77000e+02,\n",
       "        1.77000e+02, 1.77000e+02, 1.77000e+02, 1.77000e+02, 1.77000e+02,\n",
       "        1.77000e+02, 1.77000e+02, 1.77000e+02, 1.77000e+02, 1.77000e+02,\n",
       "        1.77000e+02, 1.77000e+02, 1.77000e+02, 1.77000e+02, 1.77000e+02,\n",
       "        1.77000e+02, 1.77000e+02, 1.77000e+02, 1.77000e+02, 1.77000e+02,\n",
       "        1.77000e+02, 1.77000e+02, 1.77000e+02, 1.77000e+02, 1.77000e+02,\n",
       "        1.77000e+02, 1.67000e+02, 1.67000e+02, 1.67000e+02, 1.67000e+02,\n",
       "        1.67000e+02, 1.67000e+02, 1.67000e+02, 1.67000e+02, 1.67000e+02,\n",
       "        1.67000e+02, 1.67000e+02, 1.67000e+02, 1.67000e+02, 1.67000e+02,\n",
       "        1.67000e+02, 1.67000e+02, 1.67000e+02, 1.67000e+02, 1.67000e+02,\n",
       "        1.67000e+02, 1.67000e+02, 1.67000e+02, 1.67000e+02, 1.67000e+02,\n",
       "        1.67000e+02, 1.67000e+02, 1.67000e+02, 1.67000e+02, 1.67000e+02,\n",
       "        1.67000e+02, 1.57000e+02, 1.57000e+02, 1.57000e+02, 1.57000e+02,\n",
       "        1.57000e+02, 1.57000e+02, 1.57000e+02, 1.57000e+02, 1.57000e+02,\n",
       "        1.57000e+02, 1.57000e+02, 1.57000e+02, 1.57000e+02, 1.57000e+02,\n",
       "        1.57000e+02, 1.57000e+02, 1.57000e+02, 1.57000e+02, 1.57000e+02,\n",
       "        1.57000e+02, 1.57000e+02]])"
      ]
     },
     "execution_count": 61,
     "metadata": {},
     "output_type": "execute_result"
    }
   ],
   "source": [
    "SNdata"
   ]
  },
  {
   "cell_type": "code",
   "execution_count": 62,
   "metadata": {},
   "outputs": [],
   "source": [
    "import matplotlib.pyplot as plt\n",
    "def show_scatter(x,y, label, lim_frag=0):\n",
    "    xlabel, ylabel = label\n",
    "    plt.scatter(x, y)\n",
    "    plt.xlabel(xlabel)\n",
    "    plt.ylabel(ylabel)\n",
    "    plt.xscale(\"log\")\n",
    "    if lim_frag == 1:\n",
    "        plt.ylim(0,1)\n",
    "    plt.show()"
   ]
  },
  {
   "cell_type": "code",
   "execution_count": 63,
   "metadata": {},
   "outputs": [
    {
     "data": {
      "image/png": "[encoded data removed]",
      "text/plain": [
       "<Figure size 432x288 with 1 Axes>"
      ]
     },
     "metadata": {
      "needs_background": "light"
     },
     "output_type": "display_data"
    }
   ],
   "source": [
    "label = (\"Number of cycle of failure\", \"Stress\")\n",
    "show_scatter(SNdata[0],SNdata[1], label)"
   ]
  },
  {
   "cell_type": "markdown",
   "metadata": {},
   "source": [
    "## 非線形回帰\n",
    "excelNo標準回帰は，線形回帰しか対応していない。"
   ]
  },
  {
   "cell_type": "code",
   "execution_count": 70,
   "metadata": {},
   "outputs": [],
   "source": [
    "from scipy.optimize import curve_fit"
   ]
  },
  {
   "cell_type": "code",
   "execution_count": 71,
   "metadata": {},
   "outputs": [],
   "source": [
    "def function(x,A,B,D):\n",
    "    return  10**(B-A*np.log10(x)) * D"
   ]
  },
  {
   "cell_type": "code",
   "execution_count": 72,
   "metadata": {},
   "outputs": [
    {
     "name": "stderr",
     "output_type": "stream",
     "text": [
      "C:\\Users\\Yusaku\\AppData\\Local\\Temp\\ipykernel_35052\\2660958255.py:2: RuntimeWarning: overflow encountered in power\n",
      "  return  10**(B-A*np.log10(x)) * D\n"
     ]
    }
   ],
   "source": [
    "#param_ini = (1.5, 0.1, 0)\n",
    "param, cov = curve_fit(function, SNdata[0], SNdata[1])"
   ]
  },
  {
   "cell_type": "code",
   "execution_count": 65,
   "metadata": {},
   "outputs": [],
   "source": [
    "def show_plot(x, y, label, lim_frag=0):\n",
    "    xlabel, ylabel = label\n",
    "    plt.plot(x, y)\n",
    "    plt.xlabel(xlabel)\n",
    "    plt.ylabel(ylabel)\n",
    "    plt.xscale(\"log\")\n",
    "    if lim_frag == 1:\n",
    "        plt.ylim(0,1)\n",
    "    plt.show()"
   ]
  },
  {
   "cell_type": "code",
   "execution_count": 69,
   "metadata": {},
   "outputs": [
    {
     "data": {
      "image/png": "[encoded data removed]",
      "text/plain": [
       "<Figure size 432x288 with 1 Axes>"
      ]
     },
     "metadata": {
      "needs_background": "light"
     },
     "output_type": "display_data"
    }
   ],
   "source": [
    "x = np.logspace(np.log10(1e4), np.log10(1e8),1000)\n",
    "y = b-a*np.log10(x)\n",
    "show_plot(x, y, label)"
   ]
  },
  {
   "cell_type": "code",
   "execution_count": null,
   "metadata": {},
   "outputs": [],
   "source": []
  }
 ],
 "metadata": {
  "kernelspec": {
   "display_name": "Python 3.10.4 64-bit",
   "language": "python",
   "name": "python3"
  },
  "language_info": {
   "codemirror_mode": {
    "name": "ipython",
    "version": 3
   },
   "file_extension": ".py",
   "mimetype": "text/x-python",
   "name": "python",
   "nbconvert_exporter": "python",
   "pygments_lexer": "ipython3",
   "version": "3.10.4"
  },
  "orig_nbformat": 4,
  "vscode": {
   "interpreter": {
    "hash": "26de051ba29f2982a8de78e945f0abaf191376122a1563185a90213a26c5da77"
   }
  }
 },
 "nbformat": 4,
 "nbformat_minor": 2
}
