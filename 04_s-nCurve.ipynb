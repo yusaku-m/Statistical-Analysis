{
 "cells": [
  {
   "cell_type": "markdown",
   "metadata": {},
   "source": [
    "# S-N曲線\n",
    "ここまでで使用した疲労データを元にS-N曲線を作図する。"
   ]
  },
  {
   "cell_type": "code",
   "execution_count": null,
   "metadata": {},
   "outputs": [],
   "source": []
  }
 ],
 "metadata": {
  "kernelspec": {
   "display_name": "Python 3.10.7 64-bit (microsoft store)",
   "language": "python",
   "name": "python3"
  },
  "language_info": {
   "name": "python",
   "version": "3.10.7"
  },
  "orig_nbformat": 4,
  "vscode": {
   "interpreter": {
    "hash": "6f0921e8e5ba627ad354a33e4c63298d0a028fa784b664d121704fe68184d40c"
   }
  }
 },
 "nbformat": 4,
 "nbformat_minor": 2
}
